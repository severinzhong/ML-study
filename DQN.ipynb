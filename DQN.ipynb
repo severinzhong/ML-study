{
 "cells": [
  {
   "cell_type": "code",
   "execution_count": 1,
   "metadata": {},
   "outputs": [],
   "source": [
    "import numpy as np\n",
    "import pandas as pd \n",
    "import tensorflow as tf \n",
    "import gym \n",
    "import os\n",
    "import copy\n",
    "from collections import deque\n",
    "\n",
    "import matplotlib.pyplot as plt"
   ]
  },
  {
   "cell_type": "code",
   "execution_count": 2,
   "metadata": {},
   "outputs": [],
   "source": [
    "os.environ[\"CUDA_VISIBLE_DEVICES\"] = \"0\"\n",
    "\n",
    "config = tf.ConfigProto()  \n",
    "config.gpu_options.allow_growth=True  \n",
    "sess = tf.Session(config=config)  "
   ]
  },
  {
   "cell_type": "code",
   "execution_count": 191,
   "metadata": {},
   "outputs": [],
   "source": [
    "class DQN(object) :\n",
    "    def __init__(self , envName = \"CartPole\" ,version=\"v0\" , prefix = \"DQN\") :\n",
    "        self.prefix = prefix\n",
    "        self.env = gym.make(\"{}-{}\".format(envName,version))\n",
    "        self.envName = envName\n",
    "        self.modelName = \"{}-{}\".format(self.prefix,self.envName)\n",
    "        self.modelPath = \"./model/{}-{}.h5\".format(self.prefix,self.envName)\n",
    "        self.historyPath = \"./history/{}.csv\".format(self.modelName)\n",
    "        self.memory = deque(maxlen = 3000)\n",
    "        \n",
    "        self.gamma = 0.9\n",
    "        \n",
    "        #epsilon for egreedy\n",
    "        self.epsilon = 1.0\n",
    "        self.epsilon_decay = 0.995\n",
    "        self.epsilon_min = 0.01\n",
    "        \n",
    "        self.model = self._buildModel()\n",
    "        self.history = {\"score\":[]}\n",
    "        \n",
    "    def saveHistory(self,path=None):\n",
    "        if path==None :\n",
    "            path = self.historyPath\n",
    "        pd.DataFrame(self.history).to_csv(path)\n",
    "        print(\"save history in {}\".format(path) )\n",
    "    \n",
    "    def loadHistory(self,path=None) :\n",
    "        if path==None :\n",
    "            path = self.historyPath\n",
    "        assert os.path.exists(path)\n",
    "        self.history[\"score\"] = list(pd.read_csv(path)[\"score\"])\n",
    "        print(\"load history in {}\".format(path) )\n",
    "        \n",
    "    def loadModel(self,path=None) :\n",
    "        if path==None :\n",
    "            path = self.modelPath\n",
    "        assert os.path.exists(path) \n",
    "        self.model = tf.keras.models.load_model(path)\n",
    "        self.epsilon = self.epsilon_min\n",
    "        print(\"load model {} in {} success\".format(self.modelName , path))\n",
    "            \n",
    "    def saveModel(self,path=None) :\n",
    "        if path==None :\n",
    "            path = self.modelPath\n",
    "        self.model.save(path)\n",
    "        print(\"save model {} success.\".format(self.modelName ))\n",
    "        \n",
    "    def _buildModel(self) :\n",
    "        model = tf.keras.models.Sequential()\n",
    "        model.add(tf.keras.layers.Dense(64 , input_shape = self.env.observation_space.shape ,activation=\"relu\" ))\n",
    "        model.add(tf.keras.layers.Dense(128 ,activation=\"relu\" ))\n",
    "        model.add(tf.keras.layers.Dense(128 ,activation=\"relu\" ))\n",
    "        model.add(tf.keras.layers.Dense(self.env.action_space.n ,activation=\"linear\" ))\n",
    "        model.compile(loss=\"mse\", optimizer=\"adam\" )\n",
    "        model.summary()\n",
    "        print(\"build model {} success\".format(self.modelName))\n",
    "        return model\n",
    "    def act(self,state):\n",
    "        if np.random.random() <= self.epsilon :\n",
    "            return self.env.action_space.sample()\n",
    "        else :\n",
    "            return np.argmax(self.model.predict(state))\n",
    "    \n",
    "    def remember(self, state, action, reward, next_state, done):\n",
    "        self.memory.append( (state, action, reward, next_state, done) )\n",
    "    \n",
    "    def update_epsilon(self):\n",
    "        if self.epsilon >= self.epsilon_min:\n",
    "            self.epsilon *= self.epsilon_decay\n",
    "\n",
    "    def replay(self , batch_size) :\n",
    "        batch_size = min(batch_size , len(self.memory))\n",
    "        batches = np.random.choice(len(self.memory) , batch_size )\n",
    "        for i in batches :\n",
    "            state, action, reward, next_state, done = self.memory[i]\n",
    "            if not done :\n",
    "                reward += self.gamma * np.amax(self.model.predict(next_state)[0])\n",
    "            target = self.model.predict(state)\n",
    "            target[0][action] = reward\n",
    "            self.model.fit(state, target, epochs=1, verbose=0)\n",
    "    \n",
    "    def step(self,action) :\n",
    "        next_state, reward, done, _ = self.env.step(action)\n",
    "        next_state = self.getState(next_state)\n",
    "        return next_state, reward, done, _\n",
    "    \n",
    "    def getReward(self,state, reward, done, eposide) :\n",
    "        return -100 if done and eposide<200 else reward\n",
    "    def getScore(self,score,state , reward , done) :\n",
    "        return score+1\n",
    "    def getState(self,state):\n",
    "        return state.reshape(-1,self.env.observation_space.shape[0])\n",
    "    def train(self, epochs , render = False) :\n",
    "        state  = self.env.reset()\n",
    "        state = self.getState(state)\n",
    "        done = False\n",
    "        score = 0\n",
    "        eposide = 0\n",
    "        for epoch in range(epochs+1):\n",
    "            # while not done :\n",
    "            eposide += 1\n",
    "            if render :\n",
    "                self.env.render()\n",
    "            action = agent.act(state)\n",
    "\n",
    "            next_state, reward, done, _ = self.step(action)\n",
    "\n",
    "            reward = self.getReward(state, reward, done,eposide)\n",
    "            score = self.getScore(score,state , reward , done)\n",
    "\n",
    "            agent.remember(state, action, reward, next_state, done)\n",
    "\n",
    "            state = copy.deepcopy(next_state)\n",
    "\n",
    "            if done :\n",
    "                self.history[\"score\"].append(score)\n",
    "                print(\"epoch {} / {} played {} scores.\".format(epoch ,epochs ,  score) )\n",
    "                state  = self.env.reset()\n",
    "                state = self.getState(state)\n",
    "                score=0\n",
    "                eposide = 0\n",
    "                done = False\n",
    "\n",
    "            if len(self.memory)>256 :\n",
    "                self.replay(32) \n",
    "                self.update_epsilon()\n",
    "            \n",
    "        self.env.close()\n",
    "    \n",
    "    def play(self , epochs , render = False) :\n",
    "        state  = self.env.reset()\n",
    "        state = self.getState(state)\n",
    "        epoch = 0\n",
    "        score = 0\n",
    "        eposide = 0\n",
    "        while epoch<epochs :\n",
    "            eposide += 1\n",
    "            if render :\n",
    "                self.env.render()\n",
    "            action = np.argmax(self.model.predict(state))\n",
    "            next_state , reward , done , _ = self.step(action)\n",
    "            \n",
    "            reward = self.getReward(state , reward , done, eposide)\n",
    "            score = self.getScore(score,state , reward , done)\n",
    "            state = copy.deepcopy(next_state)\n",
    "            \n",
    "            if done :\n",
    "                print( \"epoch {} / {} played {} scores.\".format(epoch ,epochs ,  score) )\n",
    "                epoch += 1\n",
    "                state  = self.env.reset()\n",
    "                state = self.getState(state)\n",
    "                score = 0\n",
    "                eposide = 0\n",
    "                done = False\n",
    "                \n",
    "        self.env.close()"
   ]
  },
  {
   "cell_type": "code",
   "execution_count": 222,
   "metadata": {},
   "outputs": [],
   "source": [
    "class NatureDQN(DQN) : \n",
    "    def __init__(self,envName = \"CartPole\" ,version=\"v0\" , prefix = \"NatureDQN\") :\n",
    "        super().__init__(envName , version , prefix)\n",
    "        self.target_model = self._buildModel()\n",
    "        self.update_target_model()\n",
    "    def update_target_model(self):\n",
    "        self.target_model.set_weights(self.model.get_weights())\n",
    "    def replay(self , batch_size) :\n",
    "        batch_size = min(batch_size , len(self.memory))\n",
    "        batches = np.random.choice(len(self.memory) , batch_size )\n",
    "        for i in batches :\n",
    "            state, action, reward, next_state, done = self.memory[i]\n",
    "            ## next_action = self.model.predict(next_state)\n",
    "            if not done :\n",
    "                reward += self.gamma * np.amax(self.target_model.predict(next_state)[0])\n",
    "            target = self.target_model.predict(state)\n",
    "            target[0][action] = reward\n",
    "            self.model.fit(state, target, epochs=1, verbose=0)\n",
    "    def train(self, epochs , render = False) :\n",
    "        state  = self.env.reset()\n",
    "        state = self.getState(state)\n",
    "        done = False\n",
    "        score = 0\n",
    "        eposide = 0\n",
    "        for epoch in range(epochs+1):\n",
    "            # while not done :\n",
    "            eposide += 1\n",
    "            if render :\n",
    "                self.env.render()\n",
    "            action = agent.act(state)\n",
    "\n",
    "            next_state, reward, done, _ = self.step(action)\n",
    "\n",
    "            reward = self.getReward(state, reward, done,eposide)\n",
    "            score = self.getScore(score,state , reward , done)\n",
    "\n",
    "            agent.remember(state, action, reward, next_state, done)\n",
    "\n",
    "            state = copy.deepcopy(next_state)\n",
    "\n",
    "            if done :\n",
    "                self.history[\"score\"].append(score)\n",
    "                print(\"epoch {} / {} played {} scores.\".format(epoch ,epochs ,  score) )\n",
    "                state  = self.env.reset()\n",
    "                state = self.getState(state)\n",
    "                score=0\n",
    "                eposide = 0\n",
    "                done = False\n",
    "\n",
    "            if len(self.memory)>256 :\n",
    "                self.replay(32)   \n",
    "                self.update_target_model()\n",
    "        \n",
    "            if epoch%16 == 0 :\n",
    "                self.update_epsilon()\n",
    "                \n",
    "            \n",
    "        self.env.close()    \n",
    "# agent = NatureDQN()"
   ]
  },
  {
   "cell_type": "code",
   "execution_count": 223,
   "metadata": {},
   "outputs": [],
   "source": [
    "class DoubleDQN(NatureDQN) : \n",
    "    def __init__(self,envName = \"CartPole\" ,version=\"v0\" , prefix = \"DoubleDQN\") :\n",
    "        super().__init__(envName , version , prefix)\n",
    "    def replay(self,batch_size) :\n",
    "        batch_size = min(batch_size , len(self.memory))\n",
    "        batches = np.random.choice(len(self.memory) , batch_size )\n",
    "        for i in batches :\n",
    "            state, action, reward, next_state, done = self.memory[i]\n",
    "            next_action = np.argmax(self.model.predict(next_state))\n",
    "            if not done :\n",
    "                reward += self.gamma * self.target_model.predict(next_state)[0,next_action]\n",
    "            target = self.target_model.predict(state)\n",
    "            target[0][action] = reward\n",
    "            self.model.fit(state, target, epochs=1, verbose=0)"
   ]
  },
  {
   "cell_type": "code",
   "execution_count": 210,
   "metadata": {},
   "outputs": [
    {
     "name": "stdout",
     "output_type": "stream",
     "text": [
      "_________________________________________________________________\n",
      "Layer (type)                 Output Shape              Param #   \n",
      "=================================================================\n",
      "dense_133 (Dense)            (None, 64)                192       \n",
      "_________________________________________________________________\n",
      "dense_134 (Dense)            (None, 128)               8320      \n",
      "_________________________________________________________________\n",
      "dense_135 (Dense)            (None, 128)               16512     \n",
      "_________________________________________________________________\n",
      "dense_136 (Dense)            (None, 3)                 387       \n",
      "=================================================================\n",
      "Total params: 25,411\n",
      "Trainable params: 25,411\n",
      "Non-trainable params: 0\n",
      "_________________________________________________________________\n",
      "build model DoubleDQN-MountainCar success\n",
      "_________________________________________________________________\n",
      "Layer (type)                 Output Shape              Param #   \n",
      "=================================================================\n",
      "dense_137 (Dense)            (None, 64)                192       \n",
      "_________________________________________________________________\n",
      "dense_138 (Dense)            (None, 128)               8320      \n",
      "_________________________________________________________________\n",
      "dense_139 (Dense)            (None, 128)               16512     \n",
      "_________________________________________________________________\n",
      "dense_140 (Dense)            (None, 3)                 387       \n",
      "=================================================================\n",
      "Total params: 25,411\n",
      "Trainable params: 25,411\n",
      "Non-trainable params: 0\n",
      "_________________________________________________________________\n",
      "build model DoubleDQN-MountainCar success\n"
     ]
    }
   ],
   "source": [
    "class MountainCar(DoubleDQN):\n",
    "    def __init__(self):\n",
    "        super().__init__(\"MountainCar\")\n",
    "    def getState(self,state) :\n",
    "        return state.reshape(-1,self.env.observation_space.shape[0] )\n",
    "    def getReward(self,state, reward, done,eposide) :    \n",
    "        return 100 if  done and eposide<200 else np.sin(3*state[0,0])*0.5\n",
    "    def getScore(self,score,state , reward , done) :\n",
    "        return max(score,np.sin(3*state[0,0])*0.5+0.5 )\n",
    "agent = MountainCar()\n",
    "#agent.loadModel()\n",
    "#agent.loadHistory()"
   ]
  },
  {
   "cell_type": "raw",
   "metadata": {},
   "source": [
    "class AtariPong(DQN) :\n",
    "    def __init__(self):\n",
    "        super().__init__(\"Pong\" , \"v0\")\n",
    "        self.memory = deque(maxlen=10000)\n",
    "    def _buildModel(self) :\n",
    "        model = tf.keras.models.Sequential()\n",
    "        model.add(tf.keras.layers.Conv2D(32,(8,8),3 ,input_shape=(80, 80 ,1) , activation=\"relu\" ) )\n",
    "        model.add(tf.keras.layers.Conv2D(64,(4,4),2 ,activation=\"relu\" ) )\n",
    "        model.add(tf.keras.layers.Conv2D(64,(3,3),1 ,activation=\"relu\" ) )\n",
    "        model.add(tf.keras.layers.Flatten())\n",
    "        model.add(tf.keras.layers.Dense(self.env.action_space.n ,activation=\"softmax\" ))\n",
    "        model.compile(loss=\"categorical_crossentropy\", optimizer=\"adam\" )\n",
    "        model.summary()\n",
    "        self.model = model\n",
    "        print(\"build model {} success\".format(self.modelName))\n",
    "    def step(self, action) :\n",
    "        done = False\n",
    "        reward_sum = 0 \n",
    "        for i in range(4) :\n",
    "            next_state, reward, done, _ = self.env.step(action)\n",
    "            reward_sum += reward \n",
    "            if done :\n",
    "                break\n",
    "        next_state = self.getState(next_state)\n",
    "        return next_state, reward_sum, done, _\n",
    "            \n",
    "    def getState(self,state) :\n",
    "        ## pooling and cut\n",
    "        grayState = np.zeros((state.shape[0]//2 , state.shape[1]//2 , 1))\n",
    "        for i in range(0,state.shape[0],2) :\n",
    "            for j in range(0,state.shape[1],2) :\n",
    "                grayState[i//2,j//2,0] = np.max(state[i:i+2,j:j+2,:]) /255\n",
    "        grayState = grayState[17:-8,:].reshape(1,80,80,1)\n",
    "        return grayState\n",
    "    def getReward(self,state, reward, done,eposide) :    \n",
    "        if reward>=1 :\n",
    "            return 100\n",
    "        if reward==-1 :\n",
    "            return -100\n",
    "        return -1\n",
    "    def getScore(self,score,state , reward , done) :\n",
    "        return score + reward\n",
    "agent = AtariPong()\n",
    "agent.loadModel()\n",
    "agent.loadHistory()"
   ]
  },
  {
   "cell_type": "code",
   "execution_count": 224,
   "metadata": {},
   "outputs": [
    {
     "name": "stdout",
     "output_type": "stream",
     "text": [
      "_________________________________________________________________\n",
      "Layer (type)                 Output Shape              Param #   \n",
      "=================================================================\n",
      "dense_149 (Dense)            (None, 64)                320       \n",
      "_________________________________________________________________\n",
      "dense_150 (Dense)            (None, 128)               8320      \n",
      "_________________________________________________________________\n",
      "dense_151 (Dense)            (None, 128)               16512     \n",
      "_________________________________________________________________\n",
      "dense_152 (Dense)            (None, 2)                 258       \n",
      "=================================================================\n",
      "Total params: 25,410\n",
      "Trainable params: 25,410\n",
      "Non-trainable params: 0\n",
      "_________________________________________________________________\n",
      "build model DoubleDQN-CartPole success\n",
      "_________________________________________________________________\n",
      "Layer (type)                 Output Shape              Param #   \n",
      "=================================================================\n",
      "dense_153 (Dense)            (None, 64)                320       \n",
      "_________________________________________________________________\n",
      "dense_154 (Dense)            (None, 128)               8320      \n",
      "_________________________________________________________________\n",
      "dense_155 (Dense)            (None, 128)               16512     \n",
      "_________________________________________________________________\n",
      "dense_156 (Dense)            (None, 2)                 258       \n",
      "=================================================================\n",
      "Total params: 25,410\n",
      "Trainable params: 25,410\n",
      "Non-trainable params: 0\n",
      "_________________________________________________________________\n",
      "build model DoubleDQN-CartPole success\n"
     ]
    }
   ],
   "source": [
    "agent = DoubleDQN()"
   ]
  },
  {
   "cell_type": "code",
   "execution_count": 229,
   "metadata": {
    "scrolled": true
   },
   "outputs": [
    {
     "name": "stdout",
     "output_type": "stream",
     "text": [
      "epoch 14 / 5000 played 15 scores.\n",
      "epoch 139 / 5000 played 125 scores.\n",
      "epoch 173 / 5000 played 34 scores.\n",
      "epoch 277 / 5000 played 104 scores.\n",
      "epoch 310 / 5000 played 33 scores.\n",
      "epoch 322 / 5000 played 12 scores.\n",
      "epoch 449 / 5000 played 127 scores.\n",
      "epoch 547 / 5000 played 98 scores.\n",
      "epoch 562 / 5000 played 15 scores.\n",
      "epoch 677 / 5000 played 115 scores.\n",
      "epoch 803 / 5000 played 126 scores.\n",
      "epoch 940 / 5000 played 137 scores.\n",
      "epoch 1101 / 5000 played 161 scores.\n",
      "epoch 1244 / 5000 played 143 scores.\n",
      "epoch 1367 / 5000 played 123 scores.\n",
      "epoch 1487 / 5000 played 120 scores.\n",
      "epoch 1532 / 5000 played 45 scores.\n",
      "epoch 1634 / 5000 played 102 scores.\n",
      "epoch 1834 / 5000 played 200 scores.\n",
      "epoch 2032 / 5000 played 198 scores.\n",
      "epoch 2162 / 5000 played 130 scores.\n",
      "epoch 2362 / 5000 played 200 scores.\n",
      "epoch 2388 / 5000 played 26 scores.\n",
      "epoch 2406 / 5000 played 18 scores.\n",
      "epoch 2606 / 5000 played 200 scores.\n",
      "epoch 2726 / 5000 played 120 scores.\n",
      "epoch 2926 / 5000 played 200 scores.\n",
      "epoch 2950 / 5000 played 24 scores.\n",
      "epoch 3050 / 5000 played 100 scores.\n",
      "epoch 3084 / 5000 played 34 scores.\n",
      "epoch 3107 / 5000 played 23 scores.\n",
      "epoch 3238 / 5000 played 131 scores.\n",
      "epoch 3260 / 5000 played 22 scores.\n",
      "epoch 3460 / 5000 played 200 scores.\n",
      "epoch 3610 / 5000 played 150 scores.\n",
      "epoch 3625 / 5000 played 15 scores.\n",
      "epoch 3651 / 5000 played 26 scores.\n",
      "epoch 3671 / 5000 played 20 scores.\n",
      "epoch 3871 / 5000 played 200 scores.\n",
      "epoch 4071 / 5000 played 200 scores.\n",
      "epoch 4271 / 5000 played 200 scores.\n",
      "epoch 4471 / 5000 played 200 scores.\n",
      "epoch 4486 / 5000 played 15 scores.\n",
      "epoch 4686 / 5000 played 200 scores.\n",
      "epoch 4886 / 5000 played 200 scores.\n",
      "Wall time: 19min 26s\n"
     ]
    }
   ],
   "source": [
    "%%time\n",
    "agent.train(5000)\n",
    "#agent.saveHistory()"
   ]
  },
  {
   "cell_type": "code",
   "execution_count": 234,
   "metadata": {},
   "outputs": [
    {
     "name": "stdout",
     "output_type": "stream",
     "text": [
      "save model DoubleDQN-CartPole success.\n",
      "save history in ./history/DoubleDQN-CartPole.csv\n"
     ]
    }
   ],
   "source": [
    "agent.saveModel()\n",
    "agent.saveHistory()"
   ]
  },
  {
   "cell_type": "code",
   "execution_count": 235,
   "metadata": {},
   "outputs": [
    {
     "name": "stdout",
     "output_type": "stream",
     "text": [
      "epoch 0 / 5 played 200 scores.\n",
      "epoch 1 / 5 played 200 scores.\n",
      "epoch 2 / 5 played 164 scores.\n",
      "epoch 3 / 5 played 163 scores.\n",
      "epoch 4 / 5 played 173 scores.\n"
     ]
    }
   ],
   "source": [
    "agent.play(5 , True)"
   ]
  },
  {
   "cell_type": "code",
   "execution_count": 233,
   "metadata": {},
   "outputs": [
    {
     "data": {
      "text/plain": [
       "[<matplotlib.lines.Line2D at 0x2ba2b741470>]"
      ]
     },
     "execution_count": 233,
     "metadata": {},
     "output_type": "execute_result"
    },
    {
     "data": {
      "image/png": "[encoded data removed]",
      "text/plain": [
       "<Figure size 432x288 with 1 Axes>"
      ]
     },
     "metadata": {
      "needs_background": "light"
     },
     "output_type": "display_data"
    }
   ],
   "source": [
    "plt.plot(agent.history[\"score\"])"
   ]
  },
  {
   "cell_type": "code",
   "execution_count": 75,
   "metadata": {},
   "outputs": [
    {
     "data": {
      "text/plain": [
       "(210, 160, 3)"
      ]
     },
     "execution_count": 75,
     "metadata": {},
     "output_type": "execute_result"
    }
   ],
   "source": [
    "state = agent.env.reset()\n",
    "state.shape"
   ]
  },
  {
   "cell_type": "code",
   "execution_count": 76,
   "metadata": {},
   "outputs": [
    {
     "data": {
      "text/plain": [
       "<matplotlib.image.AxesImage at 0x2b9e895d0f0>"
      ]
     },
     "execution_count": 76,
     "metadata": {},
     "output_type": "execute_result"
    },
    {
     "data": {
      "image/png": "[encoded data removed]",
      "text/plain": [
       "<Figure size 432x288 with 1 Axes>"
      ]
     },
     "metadata": {
      "needs_background": "light"
     },
     "output_type": "display_data"
    }
   ],
   "source": [
    "plt.imshow(state)"
   ]
  },
  {
   "cell_type": "code",
   "execution_count": 79,
   "metadata": {},
   "outputs": [
    {
     "data": {
      "text/plain": [
       "<matplotlib.image.AxesImage at 0x2b9c2ff71d0>"
      ]
     },
     "execution_count": 79,
     "metadata": {},
     "output_type": "execute_result"
    },
    {
     "data": {
      "image/png": "[encoded data removed]",
      "text/plain": [
       "<Figure size 432x288 with 1 Axes>"
      ]
     },
     "metadata": {
      "needs_background": "light"
     },
     "output_type": "display_data"
    }
   ],
   "source": [
    "grayState = np.zeros((state.shape[0]//2 , state.shape[1]//2))\n",
    "for i in range(0,state.shape[0],2) :\n",
    "    for j in range(0,state.shape[1],2) :\n",
    "            grayState[i//2,j//2] = np.max(state[i:i+2,j:j+2,:]) /255\n",
    "grayState = grayState[17:-8,:]\n",
    "plt.imshow(grayState)"
   ]
  },
  {
   "cell_type": "code",
   "execution_count": 106,
   "metadata": {
    "scrolled": false
   },
   "outputs": [],
   "source": [
    "agent.env.close()"
   ]
  },
  {
   "cell_type": "code",
   "execution_count": 59,
   "metadata": {},
   "outputs": [
    {
     "data": {
      "text/plain": [
       "<matplotlib.image.AxesImage at 0x2b9c2fd1588>"
      ]
     },
     "execution_count": 59,
     "metadata": {},
     "output_type": "execute_result"
    },
    {
     "data": {
      "image/png": "[encoded data removed]",
      "text/plain": [
       "<Figure size 432x288 with 1 Axes>"
      ]
     },
     "metadata": {
      "needs_background": "light"
     },
     "output_type": "display_data"
    }
   ],
   "source": [
    "state , _,_,_,_ = agent.memory[0]\n",
    "plt.imshow(state.reshape(80,80))"
   ]
  },
  {
   "cell_type": "code",
   "execution_count": 84,
   "metadata": {},
   "outputs": [
    {
     "data": {
      "image/png": "[encoded data removed]",
      "text/plain": [
       "<Figure size 1080x1080 with 25 Axes>"
      ]
     },
     "metadata": {
      "needs_background": "light"
     },
     "output_type": "display_data"
    }
   ],
   "source": [
    "plt.figure(figsize=(15,15))\n",
    "for i in range(5) :\n",
    "    for j in range(5) :\n",
    "        plt.subplot(5,5,5*i+j+1)\n",
    "        state,_,_,_,_, = agent.memory[1000+i*5+j] \n",
    "        plt.imshow(state.reshape(80,80))"
   ]
  },
  {
   "cell_type": "code",
   "execution_count": 115,
   "metadata": {},
   "outputs": [],
   "source": [
    "historyOld = agent.history"
   ]
  },
  {
   "cell_type": "code",
   "execution_count": 207,
   "metadata": {},
   "outputs": [
    {
     "data": {
      "text/plain": [
       "array([[-0.45194285,  0.        ]])"
      ]
     },
     "execution_count": 207,
     "metadata": {},
     "output_type": "execute_result"
    }
   ],
   "source": [
    "state, action, reward, next_state, done =  agent.memory[0]\n",
    "state"
   ]
  },
  {
   "cell_type": "code",
   "execution_count": 208,
   "metadata": {},
   "outputs": [
    {
     "data": {
      "text/plain": [
       "array([[-0.01298903,  0.01822895,  0.0157926 ]], dtype=float32)"
      ]
     },
     "execution_count": 208,
     "metadata": {},
     "output_type": "execute_result"
    }
   ],
   "source": [
    "# next_action = \n",
    "agent.model.predict(next_state)[0]"
   ]
  },
  {
   "cell_type": "code",
   "execution_count": null,
   "metadata": {},
   "outputs": [],
   "source": []
  }
 ],
 "metadata": {
  "kernelspec": {
   "display_name": "Python 3",
   "language": "python",
   "name": "python3"
  },
  "language_info": {
   "codemirror_mode": {
    "name": "ipython",
    "version": 3
   },
   "file_extension": ".py",
   "mimetype": "text/x-python",
   "name": "python",
   "nbconvert_exporter": "python",
   "pygments_lexer": "ipython3",
   "version": "3.6.8"
  }
 },
 "nbformat": 4,
 "nbformat_minor": 2
}
