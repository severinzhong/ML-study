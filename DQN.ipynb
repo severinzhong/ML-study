{
 "cells": [
  {
   "cell_type": "code",
   "execution_count": 1,
   "metadata": {},
   "outputs": [],
   "source": [
    "import numpy as np\n",
    "import pandas as pd \n",
    "import tensorflow as tf \n",
    "import gym \n",
    "import os\n",
    "import copy\n",
    "from collections import deque\n",
    "\n",
    "import matplotlib.pyplot as plt"
   ]
  },
  {
   "cell_type": "code",
   "execution_count": 2,
   "metadata": {},
   "outputs": [],
   "source": [
    "os.environ[\"CUDA_VISIBLE_DEVICES\"] = \"0\"\n",
    "\n",
    "config = tf.ConfigProto()  \n",
    "config.gpu_options.allow_growth=True  \n",
    "sess = tf.Session(config=config)  "
   ]
  },
  {
   "cell_type": "code",
   "execution_count": 63,
   "metadata": {},
   "outputs": [],
   "source": [
    "class DQN(object) :\n",
    "    def __init__(self , envName = \"CartPole\" ,version=\"v0\" , prefix = \"DQN\") :\n",
    "        self.prefix = prefix\n",
    "        self.env = gym.make(\"{}-{}\".format(envName,version))\n",
    "        self.envName = envName\n",
    "        self.modelName = \"{}-{}\".format(self.prefix,self.envName)\n",
    "        self.modelPath = \"./model/{}-{}.h5\".format(self.prefix,self.envName)\n",
    "        self.historyPath = \"./history/{}.csv\".format(self.modelName)\n",
    "        self.memory = deque(maxlen = 3000)\n",
    "        \n",
    "        self.gamma = 0.9\n",
    "        \n",
    "        #epsilon for egreedy\n",
    "        self.epsilon = 1.0\n",
    "        self.epsilon_decay = 0.995\n",
    "        self.epsilon_min = 0.01\n",
    "        \n",
    "        self.model = self.buildModel()\n",
    "        self.history = {\"score\":[]}\n",
    "        \n",
    "    def saveHistory(self,path=None):\n",
    "        if path==None :\n",
    "            path = self.historyPath\n",
    "        pd.DataFrame(self.history).to_csv(path)\n",
    "        print(\"save history in {}\".format(path) )\n",
    "    \n",
    "    def loadHistory(self,path=None) :\n",
    "        if path==None :\n",
    "            path = self.historyPath\n",
    "        assert os.path.exists(path)\n",
    "        self.history[\"score\"] = list(pd.read_csv(path)[\"score\"])\n",
    "        print(\"load history in {}\".format(path) )\n",
    "        \n",
    "    def loadModel(self,path=None) :\n",
    "        if path==None :\n",
    "            path = self.modelPath\n",
    "        assert os.path.exists(path) \n",
    "        self.model = tf.keras.models.load_model(path)\n",
    "        self.epsilon = self.epsilon_min\n",
    "        print(\"load model {} in {} success\".format(self.modelName , path))\n",
    "            \n",
    "    def saveModel(self,path=None) :\n",
    "        if path==None :\n",
    "            path = self.modelPath\n",
    "        self.model.save(path)\n",
    "        print(\"save model {} success.\".format(self.modelName ))\n",
    "        \n",
    "    def buildModel(self) :\n",
    "        model = tf.keras.models.Sequential()\n",
    "        model.add(tf.keras.layers.Dense(64 , input_shape = self.env.observation_space.shape ,activation=\"relu\" ))\n",
    "        model.add(tf.keras.layers.Dense(128 ,activation=\"relu\" ))\n",
    "        model.add(tf.keras.layers.Dense(128 ,activation=\"relu\" ))\n",
    "        model.add(tf.keras.layers.Dense(self.env.action_space.n ,activation=\"linear\" ))\n",
    "        model.compile(loss=\"mse\", optimizer=\"adam\" )\n",
    "        #model.summary()\n",
    "        print(\"build model {} success\".format(self.modelName))\n",
    "        return model\n",
    "    def act(self,state):\n",
    "        if np.random.random() <= self.epsilon :\n",
    "            return self.env.action_space.sample()\n",
    "        else :\n",
    "            return np.argmax(self.model.predict(state))\n",
    "    \n",
    "    def remember(self, state, action, reward, next_state, done):\n",
    "        self.memory.append( (state, action, reward, next_state, done) )\n",
    "    \n",
    "    def update_epsilon(self):\n",
    "        if self.epsilon >= self.epsilon_min:\n",
    "            self.epsilon *= self.epsilon_decay\n",
    "\n",
    "    def replay(self , batch_size) :\n",
    "        batch_size = min(batch_size , len(self.memory))\n",
    "        batches = np.random.choice(len(self.memory) , batch_size )\n",
    "        for i in batches :\n",
    "            state, action, reward, next_state, done = self.memory[i]\n",
    "            if not done :\n",
    "                reward += self.gamma * np.amax(self.model.predict(next_state)[0])\n",
    "            target = self.model.predict(state)\n",
    "            target[0][action] = reward\n",
    "            self.model.fit(state, target, epochs=1, verbose=0)\n",
    "    \n",
    "    def step(self,action) :\n",
    "        next_state, reward, done, _ = self.env.step(action)\n",
    "        next_state = self.getState(next_state)\n",
    "        return next_state, reward, done, _\n",
    "    \n",
    "    def getReward(self,state, reward, done, eposide) :\n",
    "        return -100 if done and eposide<200 else reward\n",
    "    def getScore(self,score,state , reward , done) :\n",
    "        return score+1\n",
    "    def getState(self,state):\n",
    "        return state.reshape(-1,self.env.observation_space.shape[0])\n",
    "    def train(self, epochs , render = False) :\n",
    "        state  = self.env.reset()\n",
    "        state = self.getState(state)\n",
    "        done = False\n",
    "        score = 0\n",
    "        eposide = 0\n",
    "        for epoch in range(epochs+1):\n",
    "            # while not done :\n",
    "            eposide += 1\n",
    "            if render :\n",
    "                self.env.render()\n",
    "            action = self.act(state)\n",
    "\n",
    "            next_state, reward, done, _ = self.step(action)\n",
    "\n",
    "            reward = self.getReward(state, reward, done,eposide)\n",
    "            score = self.getScore(score,state , reward , done)\n",
    "\n",
    "            self.remember(state, action, reward, next_state, done)\n",
    "\n",
    "            state = copy.deepcopy(next_state)\n",
    "\n",
    "            if done :\n",
    "                self.history[\"score\"].append(score)\n",
    "                print(\"epoch {} / {} played {} scores.\".format(epoch ,epochs ,  score) )\n",
    "                state  = self.env.reset()\n",
    "                state = self.getState(state)\n",
    "                score=0\n",
    "                eposide = 0\n",
    "                done = False\n",
    "\n",
    "            if len(self.memory)>256 :\n",
    "                self.replay(32) \n",
    "                self.update_epsilon()\n",
    "            \n",
    "        self.env.close()\n",
    "    \n",
    "    def play(self , epochs , render = False) :\n",
    "        state  = self.env.reset()\n",
    "        state = self.getState(state)\n",
    "        epoch = 0\n",
    "        score = 0\n",
    "        eposide = 0\n",
    "        while epoch<epochs :\n",
    "            eposide += 1\n",
    "            if render :\n",
    "                self.env.render()\n",
    "            action = np.argmax(self.model.predict(state))\n",
    "            next_state , reward , done , _ = self.step(action)\n",
    "            \n",
    "            reward = self.getReward(state , reward , done, eposide)\n",
    "            score = self.getScore(score,state , reward , done)\n",
    "            state = copy.deepcopy(next_state)\n",
    "            \n",
    "            if done :\n",
    "                print( \"epoch {} / {} played {} scores.\".format(epoch ,epochs ,  score) )\n",
    "                epoch += 1\n",
    "                state  = self.env.reset()\n",
    "                state = self.getState(state)\n",
    "                score = 0\n",
    "                eposide = 0\n",
    "                done = False\n",
    "                \n",
    "        self.env.close()"
   ]
  },
  {
   "cell_type": "code",
   "execution_count": 64,
   "metadata": {},
   "outputs": [],
   "source": [
    "class NatureDQN(DQN) : \n",
    "    def __init__(self,envName = \"CartPole\" ,version=\"v0\" , prefix = \"NatureDQN\") :\n",
    "        super(NatureDQN , self).__init__(envName , version , prefix)\n",
    "        self.target_model = self.buildModel()\n",
    "        self.update_target_model()\n",
    "    def loadModel(self,path=None) :\n",
    "        if path==None :\n",
    "            path = self.modelPath\n",
    "        assert os.path.exists(path) \n",
    "        self.model = tf.keras.models.load_model(path)\n",
    "        self.epsilon = self.epsilon_min\n",
    "        self.update_target_model()\n",
    "        print(\"load model {} in {} success\".format(self.modelName , path))\n",
    "    def update_target_model(self):\n",
    "        self.target_model.set_weights(self.model.get_weights())\n",
    "    def replay(self , batch_size) :\n",
    "        batch_size = min(batch_size , len(self.memory))\n",
    "        batches = np.random.choice(len(self.memory) , batch_size )\n",
    "        for i in batches :\n",
    "            state, action, reward, next_state, done = self.memory[i]\n",
    "            ## next_action = self.model.predict(next_state)\n",
    "            if not done :\n",
    "                reward += self.gamma * np.amax(self.target_model.predict(next_state)[0])\n",
    "            target = self.target_model.predict(state)\n",
    "            target[0][action] = reward\n",
    "            self.model.fit(state, target, epochs=1, verbose=0)\n",
    "    def train(self, epochs , render = False) :\n",
    "        state  = self.env.reset()\n",
    "        state = self.getState(state)\n",
    "        done = False\n",
    "        score = 0\n",
    "        eposide = 0\n",
    "        for epoch in range(epochs+1):\n",
    "            # while not done :\n",
    "            eposide += 1\n",
    "            if render :\n",
    "                self.env.render()\n",
    "            action = self.act(state)\n",
    "\n",
    "            next_state, reward, done, _ = self.step(action)\n",
    "\n",
    "            reward = self.getReward(state, reward, done,eposide)\n",
    "            score = self.getScore(score,state , reward , done)\n",
    "\n",
    "            self.remember(state, action, reward, next_state, done)\n",
    "\n",
    "            state = copy.deepcopy(next_state)\n",
    "\n",
    "            if done :\n",
    "                self.history[\"score\"].append(score)\n",
    "                print(\"epoch {} / {} played {} scores.\".format(epoch ,epochs ,  score) )\n",
    "                state  = self.env.reset()\n",
    "                state = self.getState(state)\n",
    "                score=0\n",
    "                eposide = 0\n",
    "                done = False\n",
    "\n",
    "            if len(self.memory)>256 :\n",
    "                self.replay(32)   \n",
    "                self.update_target_model()\n",
    "        \n",
    "            if epoch%16 == 0 :\n",
    "                self.update_epsilon()\n",
    "                \n",
    "            \n",
    "        self.env.close()    \n",
    "# agent = NatureDQN()"
   ]
  },
  {
   "cell_type": "code",
   "execution_count": 65,
   "metadata": {},
   "outputs": [],
   "source": [
    "class DoubleDQN(NatureDQN) : \n",
    "    def __init__(self,envName = \"CartPole\" ,version=\"v0\" , prefix = \"DoubleDQN\") :\n",
    "        super(DoubleDQN,self).__init__(envName , version , prefix)\n",
    "    def replay(self,batch_size) :\n",
    "        batch_size = min(batch_size , len(self.memory))\n",
    "        batches = np.random.choice(len(self.memory) , batch_size )\n",
    "        for i in batches :\n",
    "            state, action, reward, next_state, done = self.memory[i]\n",
    "            next_action = np.argmax(self.model.predict(next_state))\n",
    "            if not done :\n",
    "                reward += self.gamma * self.target_model.predict(next_state)[0,next_action]\n",
    "            target = self.target_model.predict(state)\n",
    "            target[0][action] = reward\n",
    "            self.model.fit(state, target, epochs=1, verbose=0)"
   ]
  },
  {
   "cell_type": "code",
   "execution_count": 71,
   "metadata": {},
   "outputs": [],
   "source": [
    " def AgentMountainCar(cls = DQN) :\n",
    "    class MountainCar(cls) :\n",
    "        def __init__(self) :\n",
    "            super(MountainCar, self).__init__(\"MountainCar\")\n",
    "        def getState(self,state) :\n",
    "            return state.reshape(-1,self.env.observation_space.shape[0] )\n",
    "        def getReward(self,state, reward, done,eposide) :    \n",
    "            return 100 if  done and eposide<200 else np.sin(3*state[0,0])*0.5\n",
    "        def getScore(self,score,state , reward , done) :\n",
    "            return max(score,np.sin(3*state[0,0])*0.5+0.5 )\n",
    "    return MountainCar()\n",
    "#agent = MountainCar()\n",
    "#agent.loadModel()\n",
    "#agent.loadHistory()"
   ]
  },
  {
   "cell_type": "code",
   "execution_count": 130,
   "metadata": {},
   "outputs": [
    {
     "name": "stdout",
     "output_type": "stream",
     "text": [
      "build model NatureDQN-Pong success\n",
      "build model NatureDQN-Pong success\n"
     ]
    }
   ],
   "source": [
    " def AgentAtariPong(cls = DQN) :\n",
    "    class AtariPong(cls) :\n",
    "        def __init__(self):\n",
    "            super(AtariPong , self).__init__(\"Pong\" , \"v0\")\n",
    "            self.memory = deque(maxlen=100000)\n",
    "            self.epsilon_decay = .999\n",
    "        def buildModel(self) :\n",
    "            model = tf.keras.models.Sequential()\n",
    "            model.add(tf.keras.layers.Conv2D(32,(8,8),3 ,input_shape=(80, 80 ,1) , activation=\"relu\" ) )\n",
    "            model.add(tf.keras.layers.Conv2D(64,(4,4),2 ,activation=\"relu\" ) )\n",
    "            model.add(tf.keras.layers.Conv2D(64,(3,3),1 ,activation=\"relu\" ) )\n",
    "            model.add(tf.keras.layers.Flatten())\n",
    "            model.add(tf.keras.layers.Dense(self.env.action_space.n ,activation=\"linear\" ) )\n",
    "            model.compile(loss = \"mse\" , optimizer = \"adam\")\n",
    "            #model.add(tf.keras.layers.Dense(self.env.action_space.n ,activation=\"softmax\" ))\n",
    "            #model.compile(loss=\"categorical_crossentropy\", optimizer=\"adam\" )\n",
    "            #model.summary()\n",
    "            print(\"build model {} success\".format(self.modelName))\n",
    "            return model\n",
    "        def step(self, action) :\n",
    "            done = False\n",
    "            reward_sum = 0 \n",
    "            for i in range(4) :\n",
    "                next_state, reward, done, _ = self.env.step(action)\n",
    "                reward_sum += reward \n",
    "                if done :\n",
    "                    break\n",
    "            next_state = self.getState(next_state)\n",
    "            return next_state, reward_sum, done, _\n",
    "\n",
    "        def getState(self,state) :\n",
    "            ## pooling and cut\n",
    "            grayState = np.zeros((state.shape[0]//2 , state.shape[1]//2 , 1))\n",
    "            for i in range(0,state.shape[0],2) :\n",
    "                for j in range(0,state.shape[1],2) :\n",
    "                    grayState[i//2,j//2,0] = float(np.max(state[i:i+2,j:j+2,:]) ) /255\n",
    "            grayState = grayState[17:-8,:].reshape(1,80,80,1)\n",
    "            return grayState\n",
    "        def getReward(self,state, reward, done,eposide) :    \n",
    "            if reward>=1 :\n",
    "                return 100\n",
    "            if reward==-1 :\n",
    "                return -100\n",
    "            return 1\n",
    "        def getScore(self,score,state , reward , done) :\n",
    "            return score + reward\n",
    "    return AtariPong()\n",
    "agent = AgentAtariPong(NatureDQN)\n",
    "#agent.loadModel()\n",
    "#agent.loadHistory()"
   ]
  },
  {
   "cell_type": "code",
   "execution_count": 68,
   "metadata": {
    "scrolled": true
   },
   "outputs": [
    {
     "name": "stdout",
     "output_type": "stream",
     "text": [
      "build model DQN-CartPole success\n",
      "save model DQN-CartPole success.\n",
      "build model NatureDQN-CartPole success\n",
      "build model NatureDQN-CartPole success\n",
      "build model DoubleDQN-CartPole success\n",
      "build model DoubleDQN-CartPole success\n",
      "load model DQN-CartPole in ./model/DQN-MountainCar.h5 success\n"
     ]
    },
    {
     "ename": "ValueError",
     "evalue": "Cannot feed value of shape (2, 64) for Tensor u'Placeholder_168:0', which has shape '(4, 64)'",
     "output_type": "error",
     "traceback": [
      "\u001b[0;31m---------------------------------------------------------------------------\u001b[0m",
      "\u001b[0;31mValueError\u001b[0m                                Traceback (most recent call last)",
      "\u001b[0;32m<ipython-input-68-177868b5307c>\u001b[0m in \u001b[0;36m<module>\u001b[0;34m()\u001b[0m\n\u001b[1;32m      5\u001b[0m \u001b[0magent\u001b[0m\u001b[0;34m[\u001b[0m\u001b[0;36m2\u001b[0m\u001b[0;34m]\u001b[0m \u001b[0;34m=\u001b[0m \u001b[0mDoubleDQN\u001b[0m\u001b[0;34m(\u001b[0m\u001b[0;34m)\u001b[0m\u001b[0;34m\u001b[0m\u001b[0m\n\u001b[1;32m      6\u001b[0m \u001b[0;32mfor\u001b[0m \u001b[0mi\u001b[0m \u001b[0;32min\u001b[0m \u001b[0mrange\u001b[0m\u001b[0;34m(\u001b[0m\u001b[0;36m3\u001b[0m\u001b[0;34m)\u001b[0m \u001b[0;34m:\u001b[0m\u001b[0;34m\u001b[0m\u001b[0m\n\u001b[0;32m----> 7\u001b[0;31m     \u001b[0magent\u001b[0m\u001b[0;34m[\u001b[0m\u001b[0mi\u001b[0m\u001b[0;34m]\u001b[0m\u001b[0;34m.\u001b[0m\u001b[0mloadModel\u001b[0m\u001b[0;34m(\u001b[0m\u001b[0;34m\"./model/DQN-MountainCar.h5\"\u001b[0m\u001b[0;34m)\u001b[0m\u001b[0;34m\u001b[0m\u001b[0m\n\u001b[0m\u001b[1;32m      8\u001b[0m     \u001b[0magent\u001b[0m\u001b[0;34m[\u001b[0m\u001b[0mi\u001b[0m\u001b[0;34m]\u001b[0m\u001b[0;34m.\u001b[0m\u001b[0mepsilon\u001b[0m \u001b[0;34m=\u001b[0m \u001b[0;36m1\u001b[0m\u001b[0;34m\u001b[0m\u001b[0m\n",
      "\u001b[0;32m<ipython-input-64-3b8f108a233d>\u001b[0m in \u001b[0;36mloadModel\u001b[0;34m(self, path)\u001b[0m\n\u001b[1;32m     10\u001b[0m         \u001b[0mself\u001b[0m\u001b[0;34m.\u001b[0m\u001b[0mmodel\u001b[0m \u001b[0;34m=\u001b[0m \u001b[0mtf\u001b[0m\u001b[0;34m.\u001b[0m\u001b[0mkeras\u001b[0m\u001b[0;34m.\u001b[0m\u001b[0mmodels\u001b[0m\u001b[0;34m.\u001b[0m\u001b[0mload_model\u001b[0m\u001b[0;34m(\u001b[0m\u001b[0mpath\u001b[0m\u001b[0;34m)\u001b[0m\u001b[0;34m\u001b[0m\u001b[0m\n\u001b[1;32m     11\u001b[0m         \u001b[0mself\u001b[0m\u001b[0;34m.\u001b[0m\u001b[0mepsilon\u001b[0m \u001b[0;34m=\u001b[0m \u001b[0mself\u001b[0m\u001b[0;34m.\u001b[0m\u001b[0mepsilon_min\u001b[0m\u001b[0;34m\u001b[0m\u001b[0m\n\u001b[0;32m---> 12\u001b[0;31m         \u001b[0mself\u001b[0m\u001b[0;34m.\u001b[0m\u001b[0mupdate_target_model\u001b[0m\u001b[0;34m(\u001b[0m\u001b[0;34m)\u001b[0m\u001b[0;34m\u001b[0m\u001b[0m\n\u001b[0m\u001b[1;32m     13\u001b[0m         \u001b[0;32mprint\u001b[0m\u001b[0;34m(\u001b[0m\u001b[0;34m\"load model {} in {} success\"\u001b[0m\u001b[0;34m.\u001b[0m\u001b[0mformat\u001b[0m\u001b[0;34m(\u001b[0m\u001b[0mself\u001b[0m\u001b[0;34m.\u001b[0m\u001b[0mmodelName\u001b[0m \u001b[0;34m,\u001b[0m \u001b[0mpath\u001b[0m\u001b[0;34m)\u001b[0m\u001b[0;34m)\u001b[0m\u001b[0;34m\u001b[0m\u001b[0m\n\u001b[1;32m     14\u001b[0m     \u001b[0;32mdef\u001b[0m \u001b[0mupdate_target_model\u001b[0m\u001b[0;34m(\u001b[0m\u001b[0mself\u001b[0m\u001b[0;34m)\u001b[0m\u001b[0;34m:\u001b[0m\u001b[0;34m\u001b[0m\u001b[0m\n",
      "\u001b[0;32m<ipython-input-64-3b8f108a233d>\u001b[0m in \u001b[0;36mupdate_target_model\u001b[0;34m(self)\u001b[0m\n\u001b[1;32m     13\u001b[0m         \u001b[0;32mprint\u001b[0m\u001b[0;34m(\u001b[0m\u001b[0;34m\"load model {} in {} success\"\u001b[0m\u001b[0;34m.\u001b[0m\u001b[0mformat\u001b[0m\u001b[0;34m(\u001b[0m\u001b[0mself\u001b[0m\u001b[0;34m.\u001b[0m\u001b[0mmodelName\u001b[0m \u001b[0;34m,\u001b[0m \u001b[0mpath\u001b[0m\u001b[0;34m)\u001b[0m\u001b[0;34m)\u001b[0m\u001b[0;34m\u001b[0m\u001b[0m\n\u001b[1;32m     14\u001b[0m     \u001b[0;32mdef\u001b[0m \u001b[0mupdate_target_model\u001b[0m\u001b[0;34m(\u001b[0m\u001b[0mself\u001b[0m\u001b[0;34m)\u001b[0m\u001b[0;34m:\u001b[0m\u001b[0;34m\u001b[0m\u001b[0m\n\u001b[0;32m---> 15\u001b[0;31m         \u001b[0mself\u001b[0m\u001b[0;34m.\u001b[0m\u001b[0mtarget_model\u001b[0m\u001b[0;34m.\u001b[0m\u001b[0mset_weights\u001b[0m\u001b[0;34m(\u001b[0m\u001b[0mself\u001b[0m\u001b[0;34m.\u001b[0m\u001b[0mmodel\u001b[0m\u001b[0;34m.\u001b[0m\u001b[0mget_weights\u001b[0m\u001b[0;34m(\u001b[0m\u001b[0;34m)\u001b[0m\u001b[0;34m)\u001b[0m\u001b[0;34m\u001b[0m\u001b[0m\n\u001b[0m\u001b[1;32m     16\u001b[0m     \u001b[0;32mdef\u001b[0m \u001b[0mreplay\u001b[0m\u001b[0;34m(\u001b[0m\u001b[0mself\u001b[0m \u001b[0;34m,\u001b[0m \u001b[0mbatch_size\u001b[0m\u001b[0;34m)\u001b[0m \u001b[0;34m:\u001b[0m\u001b[0;34m\u001b[0m\u001b[0m\n\u001b[1;32m     17\u001b[0m         \u001b[0mbatch_size\u001b[0m \u001b[0;34m=\u001b[0m \u001b[0mmin\u001b[0m\u001b[0;34m(\u001b[0m\u001b[0mbatch_size\u001b[0m \u001b[0;34m,\u001b[0m \u001b[0mlen\u001b[0m\u001b[0;34m(\u001b[0m\u001b[0mself\u001b[0m\u001b[0;34m.\u001b[0m\u001b[0mmemory\u001b[0m\u001b[0;34m)\u001b[0m\u001b[0;34m)\u001b[0m\u001b[0;34m\u001b[0m\u001b[0m\n",
      "\u001b[0;32m/home/samsung/anaconda2/lib/python2.7/site-packages/tensorflow/python/keras/_impl/keras/models.pyc\u001b[0m in \u001b[0;36mset_weights\u001b[0;34m(self, weights)\u001b[0m\n\u001b[1;32m    679\u001b[0m     \u001b[0;32mif\u001b[0m \u001b[0;32mnot\u001b[0m \u001b[0mself\u001b[0m\u001b[0;34m.\u001b[0m\u001b[0mbuilt\u001b[0m\u001b[0;34m:\u001b[0m\u001b[0;34m\u001b[0m\u001b[0m\n\u001b[1;32m    680\u001b[0m       \u001b[0mself\u001b[0m\u001b[0;34m.\u001b[0m\u001b[0mbuild\u001b[0m\u001b[0;34m(\u001b[0m\u001b[0;34m)\u001b[0m\u001b[0;34m\u001b[0m\u001b[0m\n\u001b[0;32m--> 681\u001b[0;31m     \u001b[0mself\u001b[0m\u001b[0;34m.\u001b[0m\u001b[0mmodel\u001b[0m\u001b[0;34m.\u001b[0m\u001b[0mset_weights\u001b[0m\u001b[0;34m(\u001b[0m\u001b[0mweights\u001b[0m\u001b[0;34m)\u001b[0m\u001b[0;34m\u001b[0m\u001b[0m\n\u001b[0m\u001b[1;32m    682\u001b[0m \u001b[0;34m\u001b[0m\u001b[0m\n\u001b[1;32m    683\u001b[0m   \u001b[0;32mdef\u001b[0m \u001b[0mload_weights\u001b[0m\u001b[0;34m(\u001b[0m\u001b[0mself\u001b[0m\u001b[0;34m,\u001b[0m \u001b[0mfilepath\u001b[0m\u001b[0;34m,\u001b[0m \u001b[0mby_name\u001b[0m\u001b[0;34m=\u001b[0m\u001b[0mFalse\u001b[0m\u001b[0;34m)\u001b[0m\u001b[0;34m:\u001b[0m\u001b[0;34m\u001b[0m\u001b[0m\n",
      "\u001b[0;32m/home/samsung/anaconda2/lib/python2.7/site-packages/tensorflow/python/keras/_impl/keras/engine/topology.pyc\u001b[0m in \u001b[0;36mset_weights\u001b[0;34m(self, weights)\u001b[0m\n\u001b[1;32m    764\u001b[0m         \u001b[0mtuples\u001b[0m\u001b[0;34m.\u001b[0m\u001b[0mappend\u001b[0m\u001b[0;34m(\u001b[0m\u001b[0;34m(\u001b[0m\u001b[0msw\u001b[0m\u001b[0;34m,\u001b[0m \u001b[0mw\u001b[0m\u001b[0;34m)\u001b[0m\u001b[0;34m)\u001b[0m\u001b[0;34m\u001b[0m\u001b[0m\n\u001b[1;32m    765\u001b[0m       \u001b[0mweights\u001b[0m \u001b[0;34m=\u001b[0m \u001b[0mweights\u001b[0m\u001b[0;34m[\u001b[0m\u001b[0mnum_param\u001b[0m\u001b[0;34m:\u001b[0m\u001b[0;34m]\u001b[0m\u001b[0;34m\u001b[0m\u001b[0m\n\u001b[0;32m--> 766\u001b[0;31m     \u001b[0mK\u001b[0m\u001b[0;34m.\u001b[0m\u001b[0mbatch_set_value\u001b[0m\u001b[0;34m(\u001b[0m\u001b[0mtuples\u001b[0m\u001b[0;34m)\u001b[0m\u001b[0;34m\u001b[0m\u001b[0m\n\u001b[0m\u001b[1;32m    767\u001b[0m \u001b[0;34m\u001b[0m\u001b[0m\n\u001b[1;32m    768\u001b[0m   \u001b[0;32mdef\u001b[0m \u001b[0mcompute_mask\u001b[0m\u001b[0;34m(\u001b[0m\u001b[0mself\u001b[0m\u001b[0;34m,\u001b[0m \u001b[0minputs\u001b[0m\u001b[0;34m,\u001b[0m \u001b[0mmask\u001b[0m\u001b[0;34m)\u001b[0m\u001b[0;34m:\u001b[0m\u001b[0;34m\u001b[0m\u001b[0m\n",
      "\u001b[0;32m/home/samsung/anaconda2/lib/python2.7/site-packages/tensorflow/python/keras/_impl/keras/backend.pyc\u001b[0m in \u001b[0;36mbatch_set_value\u001b[0;34m(tuples)\u001b[0m\n\u001b[1;32m   2404\u001b[0m       \u001b[0massign_ops\u001b[0m\u001b[0;34m.\u001b[0m\u001b[0mappend\u001b[0m\u001b[0;34m(\u001b[0m\u001b[0massign_op\u001b[0m\u001b[0;34m)\u001b[0m\u001b[0;34m\u001b[0m\u001b[0m\n\u001b[1;32m   2405\u001b[0m       \u001b[0mfeed_dict\u001b[0m\u001b[0;34m[\u001b[0m\u001b[0massign_placeholder\u001b[0m\u001b[0;34m]\u001b[0m \u001b[0;34m=\u001b[0m \u001b[0mvalue\u001b[0m\u001b[0;34m\u001b[0m\u001b[0m\n\u001b[0;32m-> 2406\u001b[0;31m     \u001b[0mget_session\u001b[0m\u001b[0;34m(\u001b[0m\u001b[0;34m)\u001b[0m\u001b[0;34m.\u001b[0m\u001b[0mrun\u001b[0m\u001b[0;34m(\u001b[0m\u001b[0massign_ops\u001b[0m\u001b[0;34m,\u001b[0m \u001b[0mfeed_dict\u001b[0m\u001b[0;34m=\u001b[0m\u001b[0mfeed_dict\u001b[0m\u001b[0;34m)\u001b[0m\u001b[0;34m\u001b[0m\u001b[0m\n\u001b[0m\u001b[1;32m   2407\u001b[0m \u001b[0;34m\u001b[0m\u001b[0m\n\u001b[1;32m   2408\u001b[0m \u001b[0;34m\u001b[0m\u001b[0m\n",
      "\u001b[0;32m/home/samsung/anaconda2/lib/python2.7/site-packages/tensorflow/python/client/session.pyc\u001b[0m in \u001b[0;36mrun\u001b[0;34m(self, fetches, feed_dict, options, run_metadata)\u001b[0m\n\u001b[1;32m    887\u001b[0m     \u001b[0;32mtry\u001b[0m\u001b[0;34m:\u001b[0m\u001b[0;34m\u001b[0m\u001b[0m\n\u001b[1;32m    888\u001b[0m       result = self._run(None, fetches, feed_dict, options_ptr,\n\u001b[0;32m--> 889\u001b[0;31m                          run_metadata_ptr)\n\u001b[0m\u001b[1;32m    890\u001b[0m       \u001b[0;32mif\u001b[0m \u001b[0mrun_metadata\u001b[0m\u001b[0;34m:\u001b[0m\u001b[0;34m\u001b[0m\u001b[0m\n\u001b[1;32m    891\u001b[0m         \u001b[0mproto_data\u001b[0m \u001b[0;34m=\u001b[0m \u001b[0mtf_session\u001b[0m\u001b[0;34m.\u001b[0m\u001b[0mTF_GetBuffer\u001b[0m\u001b[0;34m(\u001b[0m\u001b[0mrun_metadata_ptr\u001b[0m\u001b[0;34m)\u001b[0m\u001b[0;34m\u001b[0m\u001b[0m\n",
      "\u001b[0;32m/home/samsung/anaconda2/lib/python2.7/site-packages/tensorflow/python/client/session.pyc\u001b[0m in \u001b[0;36m_run\u001b[0;34m(self, handle, fetches, feed_dict, options, run_metadata)\u001b[0m\n\u001b[1;32m   1094\u001b[0m                 \u001b[0;34m'Cannot feed value of shape %r for Tensor %r, '\u001b[0m\u001b[0;34m\u001b[0m\u001b[0m\n\u001b[1;32m   1095\u001b[0m                 \u001b[0;34m'which has shape %r'\u001b[0m\u001b[0;34m\u001b[0m\u001b[0m\n\u001b[0;32m-> 1096\u001b[0;31m                 % (np_val.shape, subfeed_t.name, str(subfeed_t.get_shape())))\n\u001b[0m\u001b[1;32m   1097\u001b[0m           \u001b[0;32mif\u001b[0m \u001b[0;32mnot\u001b[0m \u001b[0mself\u001b[0m\u001b[0;34m.\u001b[0m\u001b[0mgraph\u001b[0m\u001b[0;34m.\u001b[0m\u001b[0mis_feedable\u001b[0m\u001b[0;34m(\u001b[0m\u001b[0msubfeed_t\u001b[0m\u001b[0;34m)\u001b[0m\u001b[0;34m:\u001b[0m\u001b[0;34m\u001b[0m\u001b[0m\n\u001b[1;32m   1098\u001b[0m             \u001b[0;32mraise\u001b[0m \u001b[0mValueError\u001b[0m\u001b[0;34m(\u001b[0m\u001b[0;34m'Tensor %s may not be fed.'\u001b[0m \u001b[0;34m%\u001b[0m \u001b[0msubfeed_t\u001b[0m\u001b[0;34m)\u001b[0m\u001b[0;34m\u001b[0m\u001b[0m\n",
      "\u001b[0;31mValueError\u001b[0m: Cannot feed value of shape (2, 64) for Tensor u'Placeholder_168:0', which has shape '(4, 64)'"
     ]
    }
   ],
   "source": [
    "agent = [0 for _ in range(3)]\n",
    "agent[0] = DQN()\n",
    "agent[1] = NatureDQN()\n",
    "agent[2] = DoubleDQN()\n",
    "for i in range(3) :\n",
    "    agent[i].loadModel()\n",
    "    agent[i].epsilon = 1"
   ]
  },
  {
   "cell_type": "code",
   "execution_count": 43,
   "metadata": {
    "scrolled": true
   },
   "outputs": [
    {
     "name": "stdout",
     "output_type": "stream",
     "text": [
      "epoch 199 / 5000 played 200 scores.\n",
      "epoch 399 / 5000 played 200 scores.\n",
      "epoch 519 / 5000 played 120 scores.\n",
      "epoch 719 / 5000 played 200 scores.\n",
      "epoch 766 / 5000 played 47 scores.\n",
      "epoch 803 / 5000 played 37 scores.\n",
      "epoch 836 / 5000 played 33 scores.\n",
      "epoch 849 / 5000 played 13 scores.\n",
      "epoch 864 / 5000 played 15 scores.\n",
      "epoch 881 / 5000 played 17 scores.\n",
      "epoch 913 / 5000 played 32 scores.\n",
      "epoch 998 / 5000 played 85 scores.\n",
      "epoch 1016 / 5000 played 18 scores.\n",
      "epoch 1032 / 5000 played 16 scores.\n",
      "epoch 1047 / 5000 played 15 scores.\n",
      "epoch 1150 / 5000 played 103 scores.\n",
      "epoch 1331 / 5000 played 181 scores.\n",
      "epoch 1531 / 5000 played 200 scores.\n",
      "epoch 1669 / 5000 played 138 scores.\n",
      "epoch 1869 / 5000 played 200 scores.\n",
      "epoch 2068 / 5000 played 199 scores.\n",
      "epoch 2268 / 5000 played 200 scores.\n",
      "epoch 2468 / 5000 played 200 scores.\n",
      "epoch 2668 / 5000 played 200 scores.\n",
      "epoch 2739 / 5000 played 71 scores.\n",
      "epoch 2853 / 5000 played 114 scores.\n",
      "epoch 3053 / 5000 played 200 scores.\n",
      "epoch 3170 / 5000 played 117 scores.\n",
      "epoch 3305 / 5000 played 135 scores.\n",
      "epoch 3505 / 5000 played 200 scores.\n",
      "epoch 3662 / 5000 played 157 scores.\n",
      "epoch 3862 / 5000 played 200 scores.\n",
      "epoch 3959 / 5000 played 97 scores.\n",
      "epoch 4101 / 5000 played 142 scores.\n",
      "epoch 4225 / 5000 played 124 scores.\n",
      "epoch 4247 / 5000 played 22 scores.\n",
      "epoch 4346 / 5000 played 99 scores.\n",
      "epoch 4463 / 5000 played 117 scores.\n",
      "epoch 4547 / 5000 played 84 scores.\n",
      "epoch 4563 / 5000 played 16 scores.\n",
      "epoch 4580 / 5000 played 17 scores.\n",
      "epoch 4592 / 5000 played 12 scores.\n",
      "epoch 4604 / 5000 played 12 scores.\n",
      "epoch 4625 / 5000 played 21 scores.\n",
      "epoch 4729 / 5000 played 104 scores.\n",
      "epoch 4747 / 5000 played 18 scores.\n",
      "epoch 4781 / 5000 played 34 scores.\n",
      "epoch 4810 / 5000 played 29 scores.\n",
      "epoch 4837 / 5000 played 27 scores.\n",
      "epoch 4876 / 5000 played 39 scores.\n",
      "epoch 4913 / 5000 played 37 scores.\n",
      "save history in ./history/DQN-CartPole.csv\n",
      "save model DQN-CartPole success.\n",
      "===============================\n",
      "epoch 136 / 5000 played 137 scores.\n",
      "epoch 302 / 5000 played 166 scores.\n",
      "epoch 502 / 5000 played 200 scores.\n",
      "epoch 662 / 5000 played 160 scores.\n",
      "epoch 774 / 5000 played 112 scores.\n",
      "epoch 963 / 5000 played 189 scores.\n",
      "epoch 1141 / 5000 played 178 scores.\n",
      "epoch 1315 / 5000 played 174 scores.\n",
      "epoch 1515 / 5000 played 200 scores.\n",
      "epoch 1628 / 5000 played 113 scores.\n",
      "epoch 1655 / 5000 played 27 scores.\n",
      "epoch 1835 / 5000 played 180 scores.\n",
      "epoch 2035 / 5000 played 200 scores.\n",
      "epoch 2092 / 5000 played 57 scores.\n",
      "epoch 2292 / 5000 played 200 scores.\n",
      "epoch 2492 / 5000 played 200 scores.\n",
      "epoch 2673 / 5000 played 181 scores.\n",
      "epoch 2755 / 5000 played 82 scores.\n",
      "epoch 2792 / 5000 played 37 scores.\n",
      "epoch 2992 / 5000 played 200 scores.\n",
      "epoch 3087 / 5000 played 95 scores.\n",
      "epoch 3142 / 5000 played 55 scores.\n",
      "epoch 3214 / 5000 played 72 scores.\n",
      "epoch 3356 / 5000 played 142 scores.\n",
      "epoch 3556 / 5000 played 200 scores.\n",
      "epoch 3680 / 5000 played 124 scores.\n",
      "epoch 3808 / 5000 played 128 scores.\n",
      "epoch 3907 / 5000 played 99 scores.\n",
      "epoch 4107 / 5000 played 200 scores.\n",
      "epoch 4307 / 5000 played 200 scores.\n",
      "epoch 4507 / 5000 played 200 scores.\n",
      "epoch 4707 / 5000 played 200 scores.\n",
      "epoch 4881 / 5000 played 174 scores.\n",
      "save history in ./history/NatureDQN-CartPole.csv\n",
      "save model NatureDQN-CartPole success.\n",
      "===============================\n",
      "epoch 199 / 5000 played 200 scores.\n",
      "epoch 331 / 5000 played 132 scores.\n",
      "epoch 422 / 5000 played 91 scores.\n",
      "epoch 622 / 5000 played 200 scores.\n",
      "epoch 760 / 5000 played 138 scores.\n",
      "epoch 944 / 5000 played 184 scores.\n",
      "epoch 1112 / 5000 played 168 scores.\n",
      "epoch 1242 / 5000 played 130 scores.\n",
      "epoch 1272 / 5000 played 30 scores.\n",
      "epoch 1304 / 5000 played 32 scores.\n",
      "epoch 1465 / 5000 played 161 scores.\n",
      "epoch 1665 / 5000 played 200 scores.\n",
      "epoch 1734 / 5000 played 69 scores.\n",
      "epoch 1916 / 5000 played 182 scores.\n",
      "epoch 2053 / 5000 played 137 scores.\n",
      "epoch 2186 / 5000 played 133 scores.\n",
      "epoch 2312 / 5000 played 126 scores.\n",
      "epoch 2431 / 5000 played 119 scores.\n",
      "epoch 2631 / 5000 played 200 scores.\n",
      "epoch 2784 / 5000 played 153 scores.\n",
      "epoch 2953 / 5000 played 169 scores.\n",
      "epoch 3040 / 5000 played 87 scores.\n",
      "epoch 3151 / 5000 played 111 scores.\n",
      "epoch 3245 / 5000 played 94 scores.\n",
      "epoch 3350 / 5000 played 105 scores.\n",
      "epoch 3405 / 5000 played 55 scores.\n",
      "epoch 3483 / 5000 played 78 scores.\n",
      "epoch 3515 / 5000 played 32 scores.\n",
      "epoch 3559 / 5000 played 44 scores.\n",
      "epoch 3676 / 5000 played 117 scores.\n",
      "epoch 3876 / 5000 played 200 scores.\n",
      "epoch 4004 / 5000 played 128 scores.\n",
      "epoch 4204 / 5000 played 200 scores.\n",
      "epoch 4303 / 5000 played 99 scores.\n",
      "epoch 4397 / 5000 played 94 scores.\n",
      "epoch 4586 / 5000 played 189 scores.\n",
      "epoch 4601 / 5000 played 15 scores.\n",
      "epoch 4717 / 5000 played 116 scores.\n",
      "epoch 4822 / 5000 played 105 scores.\n",
      "epoch 4965 / 5000 played 143 scores.\n",
      "save history in ./history/DoubleDQN-CartPole.csv\n",
      "save model DoubleDQN-CartPole success.\n",
      "===============================\n",
      "CPU times: user 1h 12min 42s, sys: 8min 1s, total: 1h 20min 43s\n",
      "Wall time: 38min 45s\n"
     ]
    }
   ],
   "source": [
    "%%time\n",
    "for i in range(3) :\n",
    "    agent[i].train(5000)\n",
    "    agent[i].saveHistory()\n",
    "    agent[i].saveModel()\n",
    "    print(\"===============================\")"
   ]
  },
  {
   "cell_type": "code",
   "execution_count": 14,
   "metadata": {},
   "outputs": [
    {
     "name": "stdout",
     "output_type": "stream",
     "text": [
      "save model DQN-CartPole success.\n"
     ]
    }
   ],
   "source": [
    "agent.saveModel()"
   ]
  },
  {
   "cell_type": "code",
   "execution_count": 20,
   "metadata": {},
   "outputs": [
    {
     "name": "stdout",
     "output_type": "stream",
     "text": [
      "epoch 0 / 5 played 10 scores.\n",
      "epoch 1 / 5 played 10 scores.\n",
      "epoch 2 / 5 played 10 scores.\n",
      "epoch 3 / 5 played 10 scores.\n",
      "epoch 4 / 5 played 10 scores.\n"
     ]
    }
   ],
   "source": [
    "agent[2].play(5 , True)"
   ]
  },
  {
   "cell_type": "code",
   "execution_count": 46,
   "metadata": {},
   "outputs": [
    {
     "data": {
      "text/plain": [
       "<matplotlib.legend.Legend at 0x7fd7c318d850>"
      ]
     },
     "execution_count": 46,
     "metadata": {},
     "output_type": "execute_result"
    },
    {
     "data": {
      "image/png": "[encoded data removed]",
      "text/plain": [
       "<Figure size 432x288 with 1 Axes>"
      ]
     },
     "metadata": {
      "needs_background": "light"
     },
     "output_type": "display_data"
    }
   ],
   "source": [
    "from scipy.signal import savgol_filter\n",
    "for i in range(3) :\n",
    "    plt.plot( savgol_filter(agent[i].history[\"score\"] , 9 , 1) , label=i)\n",
    "    #plt.plot(agent[i].history[\"score\"] , label=i)\n",
    "plt.legend(loc=\"best\")"
   ]
  },
  {
   "cell_type": "code",
   "execution_count": 95,
   "metadata": {},
   "outputs": [
    {
     "data": {
      "text/plain": [
       "(210, 160, 3)"
      ]
     },
     "execution_count": 95,
     "metadata": {},
     "output_type": "execute_result"
    }
   ],
   "source": [
    "state = agent.env.reset()\n",
    "state.shape"
   ]
  },
  {
   "cell_type": "code",
   "execution_count": 96,
   "metadata": {},
   "outputs": [
    {
     "data": {
      "text/plain": [
       "<matplotlib.image.AxesImage at 0x7fd7b6656910>"
      ]
     },
     "execution_count": 96,
     "metadata": {},
     "output_type": "execute_result"
    },
    {
     "data": {
      "image/png": "[encoded data removed]",
      "text/plain": [
       "<Figure size 432x288 with 1 Axes>"
      ]
     },
     "metadata": {
      "needs_background": "light"
     },
     "output_type": "display_data"
    }
   ],
   "source": [
    "plt.imshow(state)"
   ]
  },
  {
   "cell_type": "code",
   "execution_count": 103,
   "metadata": {},
   "outputs": [
    {
     "data": {
      "text/plain": [
       "<matplotlib.image.AxesImage at 0x7fd79ffd1ad0>"
      ]
     },
     "execution_count": 103,
     "metadata": {},
     "output_type": "execute_result"
    },
    {
     "data": {
      "image/png": "[encoded data removed]",
      "text/plain": [
       "<Figure size 432x288 with 1 Axes>"
      ]
     },
     "metadata": {
      "needs_background": "light"
     },
     "output_type": "display_data"
    }
   ],
   "source": [
    "grayState = np.zeros((state.shape[0]//2 , state.shape[1]//2))\n",
    "for i in range(0,state.shape[0],2) :\n",
    "    for j in range(0,state.shape[1],2) :\n",
    "            grayState[i//2,j//2] = float(np.max(state[i:i+2,j:j+2,:])) / 255\n",
    "grayState = grayState[17:-8,:]\n",
    "plt.imshow(grayState * 255)"
   ]
  },
  {
   "cell_type": "code",
   "execution_count": 106,
   "metadata": {
    "scrolled": false
   },
   "outputs": [],
   "source": [
    "agent.env.close()"
   ]
  },
  {
   "cell_type": "code",
   "execution_count": 109,
   "metadata": {},
   "outputs": [
    {
     "data": {
      "text/plain": [
       "<matplotlib.image.AxesImage at 0x7fd7b6f35690>"
      ]
     },
     "execution_count": 109,
     "metadata": {},
     "output_type": "execute_result"
    },
    {
     "data": {
      "image/png": "[encoded data removed]",
      "text/plain": [
       "<Figure size 432x288 with 1 Axes>"
      ]
     },
     "metadata": {
      "needs_background": "light"
     },
     "output_type": "display_data"
    }
   ],
   "source": [
    "state , _,_,_,_ = agent.memory[0]\n",
    "plt.imshow(state.reshape(80,80))"
   ]
  },
  {
   "cell_type": "code",
   "execution_count": 110,
   "metadata": {},
   "outputs": [
    {
     "data": {
      "image/png": "[encoded data removed]",
      "text/plain": [
       "<Figure size 1080x1080 with 25 Axes>"
      ]
     },
     "metadata": {
      "needs_background": "light"
     },
     "output_type": "display_data"
    }
   ],
   "source": [
    "plt.figure(figsize=(15,15))\n",
    "for i in range(5) :\n",
    "    for j in range(5) :\n",
    "        plt.subplot(5,5,5*i+j+1)\n",
    "        state,_,_,_,_, = agent.memory[100+i*5+j] \n",
    "        plt.imshow(state.reshape(80,80))"
   ]
  },
  {
   "cell_type": "code",
   "execution_count": 115,
   "metadata": {},
   "outputs": [],
   "source": [
    "historyOld = agent.history"
   ]
  },
  {
   "cell_type": "code",
   "execution_count": 207,
   "metadata": {},
   "outputs": [
    {
     "data": {
      "text/plain": [
       "array([[-0.45194285,  0.        ]])"
      ]
     },
     "execution_count": 207,
     "metadata": {},
     "output_type": "execute_result"
    }
   ],
   "source": [
    "state, action, reward, next_state, done =  agent.memory[0]\n",
    "state"
   ]
  },
  {
   "cell_type": "code",
   "execution_count": 208,
   "metadata": {},
   "outputs": [
    {
     "data": {
      "text/plain": [
       "array([[-0.01298903,  0.01822895,  0.0157926 ]], dtype=float32)"
      ]
     },
     "execution_count": 208,
     "metadata": {},
     "output_type": "execute_result"
    }
   ],
   "source": [
    "# next_action = \n",
    "agent.model.predict(next_state)[0]"
   ]
  },
  {
   "cell_type": "code",
   "execution_count": 69,
   "metadata": {},
   "outputs": [
    {
     "name": "stdout",
     "output_type": "stream",
     "text": [
      "build model DQN-MountainCar success\n",
      "save model DQN-MountainCar success.\n",
      "build model NatureDQN-MountainCar success\n",
      "build model NatureDQN-MountainCar success\n",
      "build model DoubleDQN-MountainCar success\n",
      "build model DoubleDQN-MountainCar success\n",
      "load model DQN-MountainCar in ./model/DQN-MountainCar.h5 success\n",
      "load model NatureDQN-MountainCar in ./model/DQN-MountainCar.h5 success\n",
      "load model DoubleDQN-MountainCar in ./model/DQN-MountainCar.h5 success\n"
     ]
    }
   ],
   "source": [
    "agentm = [0 for _ in range(3)] \n",
    "agentm[0] = AgentMountainCar(DQN)\n",
    "agentm[0].saveModel()\n",
    "agentm[1] = AgentMountainCar(NatureDQN)\n",
    "agentm[2] = AgentMountainCar(DoubleDQN)\n",
    "for i in range(3) :\n",
    "    agentm[i].loadModel(\"./model/DQN-MountainCar.h5\")\n",
    "    agentm[i].epsilon = 1"
   ]
  },
  {
   "cell_type": "code",
   "execution_count": 70,
   "metadata": {},
   "outputs": [
    {
     "name": "stdout",
     "output_type": "stream",
     "text": [
      "epoch 0 / 5 played 0.217131405482 scores.\n",
      "epoch 1 / 5 played 0.333837318062 scores.\n",
      "epoch 2 / 5 played 0.245684356476 scores.\n",
      "epoch 3 / 5 played 0.334181323773 scores.\n",
      "epoch 4 / 5 played 0.230283734477 scores.\n"
     ]
    }
   ],
   "source": [
    "agentm[0].play(5 , True)"
   ]
  },
  {
   "cell_type": "code",
   "execution_count": 74,
   "metadata": {
    "scrolled": true
   },
   "outputs": [
    {
     "name": "stdout",
     "output_type": "stream",
     "text": [
      "epoch 199 / 5000 played 0.535358200953 scores.\n",
      "epoch 399 / 5000 played 0.35911385077 scores.\n",
      "epoch 599 / 5000 played 0.721260221647 scores.\n",
      "epoch 794 / 5000 played 0.998526943572 scores.\n",
      "epoch 994 / 5000 played 0.547142541043 scores.\n",
      "epoch 1194 / 5000 played 0.721260221647 scores.\n",
      "epoch 1386 / 5000 played 0.998502978229 scores.\n",
      "epoch 1586 / 5000 played 0.631629274651 scores.\n",
      "epoch 1786 / 5000 played 0.281275321233 scores.\n",
      "epoch 1986 / 5000 played 0.721260221647 scores.\n",
      "epoch 2186 / 5000 played 0.721260221647 scores.\n",
      "epoch 2376 / 5000 played 0.994934852914 scores.\n",
      "epoch 2543 / 5000 played 0.994415183914 scores.\n",
      "epoch 2719 / 5000 played 0.998359051481 scores.\n",
      "epoch 2864 / 5000 played 0.998058253974 scores.\n",
      "epoch 3032 / 5000 played 0.99081406347 scores.\n",
      "epoch 3198 / 5000 played 0.998138485648 scores.\n",
      "epoch 3354 / 5000 played 0.995182574398 scores.\n",
      "epoch 3511 / 5000 played 0.989895188547 scores.\n",
      "epoch 3653 / 5000 played 0.995520562225 scores.\n",
      "epoch 3819 / 5000 played 0.994732523635 scores.\n",
      "epoch 3981 / 5000 played 0.998621755446 scores.\n",
      "epoch 4146 / 5000 played 0.991524484923 scores.\n",
      "epoch 4308 / 5000 played 0.989651771106 scores.\n",
      "epoch 4499 / 5000 played 0.996705221099 scores.\n",
      "epoch 4655 / 5000 played 0.998621718681 scores.\n",
      "epoch 4810 / 5000 played 0.997065230114 scores.\n",
      "epoch 4969 / 5000 played 0.989895188547 scores.\n",
      "save history in ./history/DQN-MountainCar.csv\n",
      "save model DQN-MountainCar success.\n",
      "===============================\n",
      "epoch 199 / 5000 played 0.996483725454 scores.\n",
      "epoch 399 / 5000 played 0.721260221647 scores.\n",
      "epoch 599 / 5000 played 0.721260221647 scores.\n",
      "epoch 799 / 5000 played 0.597152823698 scores.\n",
      "epoch 987 / 5000 played 0.998743377594 scores.\n",
      "epoch 1187 / 5000 played 0.904752886451 scores.\n",
      "epoch 1387 / 5000 played 0.721260221647 scores.\n",
      "epoch 1570 / 5000 played 0.998013948799 scores.\n",
      "epoch 1725 / 5000 played 0.997424624956 scores.\n",
      "epoch 1911 / 5000 played 0.997679674079 scores.\n",
      "epoch 2080 / 5000 played 0.993003303259 scores.\n",
      "epoch 2280 / 5000 played 0.0343217097696 scores.\n",
      "epoch 2480 / 5000 played 0.819566045166 scores.\n",
      "epoch 2614 / 5000 played 0.997447228471 scores.\n",
      "epoch 2767 / 5000 played 0.995473989386 scores.\n",
      "epoch 2967 / 5000 played 0.986132806892 scores.\n",
      "epoch 3093 / 5000 played 0.995146876809 scores.\n",
      "epoch 3293 / 5000 played 0.721260221647 scores.\n",
      "epoch 3461 / 5000 played 0.99603025728 scores.\n",
      "epoch 3635 / 5000 played 0.99340679893 scores.\n",
      "epoch 3835 / 5000 played 0.594928911497 scores.\n",
      "epoch 4014 / 5000 played 0.998342597347 scores.\n",
      "epoch 4154 / 5000 played 0.995809457239 scores.\n",
      "epoch 4349 / 5000 played 0.994996502593 scores.\n",
      "epoch 4524 / 5000 played 0.991916173457 scores.\n",
      "epoch 4705 / 5000 played 0.997808934897 scores.\n",
      "epoch 4902 / 5000 played 0.992829141344 scores.\n",
      "save history in ./history/NatureDQN-MountainCar.csv\n",
      "save model NatureDQN-MountainCar success.\n",
      "===============================\n",
      "epoch 199 / 5000 played 0.216250030927 scores.\n",
      "epoch 399 / 5000 played 0.148233039391 scores.\n",
      "epoch 599 / 5000 played 0.303470322516 scores.\n",
      "epoch 799 / 5000 played 0.521541803092 scores.\n",
      "epoch 999 / 5000 played 0.622736098879 scores.\n",
      "epoch 1175 / 5000 played 0.998700918369 scores.\n",
      "epoch 1375 / 5000 played 0.965940018112 scores.\n",
      "epoch 1575 / 5000 played 0.256653306604 scores.\n",
      "epoch 1740 / 5000 played 0.998261184132 scores.\n",
      "epoch 1896 / 5000 played 0.99573478213 scores.\n",
      "epoch 2041 / 5000 played 0.996389889114 scores.\n",
      "epoch 2241 / 5000 played 0.615843943189 scores.\n",
      "epoch 2441 / 5000 played 0.42855644442 scores.\n",
      "epoch 2589 / 5000 played 0.995985200151 scores.\n",
      "epoch 2770 / 5000 played 0.992268498105 scores.\n",
      "epoch 2955 / 5000 played 0.996434938997 scores.\n",
      "epoch 3082 / 5000 played 0.998055662766 scores.\n",
      "epoch 3277 / 5000 played 0.995286630296 scores.\n",
      "epoch 3477 / 5000 played 0.696477051568 scores.\n",
      "epoch 3677 / 5000 played 0.721260221647 scores.\n",
      "epoch 3842 / 5000 played 0.997070696413 scores.\n",
      "epoch 4041 / 5000 played 0.993006046149 scores.\n",
      "epoch 4179 / 5000 played 0.9962797484 scores.\n",
      "epoch 4375 / 5000 played 0.995939440049 scores.\n",
      "epoch 4520 / 5000 played 0.997008689068 scores.\n",
      "epoch 4678 / 5000 played 0.995501113516 scores.\n",
      "epoch 4878 / 5000 played 0.994305310818 scores.\n",
      "save history in ./history/DoubleDQN-MountainCar.csv\n",
      "save model DoubleDQN-MountainCar success.\n",
      "===============================\n",
      "CPU times: user 1h 15min 2s, sys: 7min 57s, total: 1h 22min 59s\n",
      "Wall time: 41min 21s\n"
     ]
    }
   ],
   "source": [
    "%%time\n",
    "for i in range(3) :\n",
    "    agentm[i].train(5000)\n",
    "    agentm[i].saveHistory()\n",
    "    agentm[i].saveModel()\n",
    "    print(\"===============================\")"
   ]
  },
  {
   "cell_type": "code",
   "execution_count": 81,
   "metadata": {},
   "outputs": [
    {
     "data": {
      "text/plain": [
       "<matplotlib.legend.Legend at 0x7fd7bfbf2d90>"
      ]
     },
     "execution_count": 81,
     "metadata": {},
     "output_type": "execute_result"
    },
    {
     "data": {
      "image/png": "[encoded data removed]",
      "text/plain": [
       "<Figure size 432x288 with 1 Axes>"
      ]
     },
     "metadata": {
      "needs_background": "light"
     },
     "output_type": "display_data"
    }
   ],
   "source": [
    "for i in range(3) :\n",
    "    plt.plot( savgol_filter(agentm[i].history[\"score\"] , 5 , 1) , label=i)\n",
    "    #plt.plot(agentm[i].history[\"score\"] , label=i)\n",
    "plt.legend(loc=\"best\")"
   ]
  },
  {
   "cell_type": "code",
   "execution_count": 131,
   "metadata": {},
   "outputs": [
    {
     "name": "stdout",
     "output_type": "stream",
     "text": [
      "epoch 0 / 1 played -1868 scores.\n"
     ]
    }
   ],
   "source": [
    "agent.play(1 , True)"
   ]
  },
  {
   "cell_type": "code",
   "execution_count": 136,
   "metadata": {},
   "outputs": [],
   "source": [
    "agent.env.close()"
   ]
  },
  {
   "cell_type": "code",
   "execution_count": null,
   "metadata": {},
   "outputs": [
    {
     "name": "stdout",
     "output_type": "stream",
     "text": [
      "epoch 277 / 200000 played -1843 scores.\n",
      "epoch 559 / 200000 played -1839 scores.\n",
      "epoch 858 / 200000 played -1723 scores.\n"
     ]
    }
   ],
   "source": [
    "%%time\n",
    "agent.train(200000)"
   ]
  },
  {
   "cell_type": "code",
   "execution_count": 137,
   "metadata": {},
   "outputs": [
    {
     "name": "stdout",
     "output_type": "stream",
     "text": [
      "save model NatureDQN-Pong success.\n",
      "save history in ./history/NatureDQN-Pong.csv\n"
     ]
    }
   ],
   "source": [
    "agent.saveModel()\n",
    "agent.saveHistory()"
   ]
  },
  {
   "cell_type": "code",
   "execution_count": null,
   "metadata": {},
   "outputs": [],
   "source": []
  }
 ],
 "metadata": {
  "kernelspec": {
   "display_name": "Python 2",
   "language": "python",
   "name": "python2"
  },
  "language_info": {
   "codemirror_mode": {
    "name": "ipython",
    "version": 2
   },
   "file_extension": ".py",
   "mimetype": "text/x-python",
   "name": "python",
   "nbconvert_exporter": "python",
   "pygments_lexer": "ipython2",
   "version": "2.7.16"
  }
 },
 "nbformat": 4,
 "nbformat_minor": 2
}
